{
 "cells": [
  {
   "cell_type": "markdown",
   "metadata": {},
   "source": [
    "Analyzing data and table structure"
   ]
  },
  {
   "cell_type": "code",
   "execution_count": 1,
   "metadata": {},
   "outputs": [],
   "source": [
    "import pandas as pd\n",
    "import numpy as np\n",
    "import sqlite3\n",
    "import os\n",
    "import sys\n",
    "\n",
    "sys.path.append(os.path.abspath('../utils'))\n",
    "\n",
    "import commands_queries as cq\n",
    "\n",
    "db_name = \"../my_database.db\"\n",
    "\n",
    "if not os.path.exists(db_name):\n",
    "    raise FileNotFoundError(f\"The database '{db_name}' was not found.\")\n",
    "\n",
    "conn = sqlite3.connect(db_name)"
   ]
  },
  {
   "cell_type": "code",
   "execution_count": 2,
   "metadata": {},
   "outputs": [
    {
     "name": "stdout",
     "output_type": "stream",
     "text": [
      "case_sfid               0\n",
      "account_sfid         1593\n",
      "case_number             0\n",
      "case_contact_name       0\n",
      "case_product            0\n",
      "case_status             0\n",
      "case_resolution         0\n",
      "case_details            0\n",
      "case_closure            0\n",
      "case_priority           0\n",
      "case_severity           0\n",
      "case_reason             0\n",
      "case_type               0\n",
      "case_category           0\n",
      "case_created_date       0\n",
      "case_closed_date      942\n",
      "dtype: int64\n",
      "Número total de IDs: 1415\n",
      "Número de IDs únicos: 10000\n",
      "                                        account_sfid  case_count\n",
      "0                                               None        1593\n",
      "1  00071f961d3a91b0cb93a6e8695373a759d4e62ee5c135...           1\n",
      "2  0029b5af5dbfe7aac070532357167b67b4a5ebf46974b7...          29\n",
      "3  0032ac87ff59afbd220ab337e3db439ba8fd2cf954ef02...          23\n",
      "4  00405c8b4fe0252b6011b6cdf762ad3c6506f168a519b5...           2\n",
      "Tabela: accounts\n",
      "account_sfid            object\n",
      "account_name            object\n",
      "account_created_date    object\n",
      "account_country         object\n",
      "account_industry        object\n",
      "dtype: object\n",
      "Tabela: support_cases\n",
      "case_sfid            object\n",
      "account_sfid         object\n",
      "case_number           int64\n",
      "case_contact_name    object\n",
      "case_product         object\n",
      "case_status          object\n",
      "case_resolution      object\n",
      "case_details         object\n",
      "case_closure         object\n",
      "case_priority        object\n",
      "case_severity        object\n",
      "case_reason          object\n",
      "case_type            object\n",
      "case_category        object\n",
      "case_created_date    object\n",
      "case_closed_date     object\n",
      "dtype: object\n",
      "                      table_name  size_mb\n",
      "0                       accounts        6\n",
      "1  silver_accounts_support_cases        6\n",
      "2                  support_cases        6\n",
      "{'account_sfid': 1415, 'account_name': 1414, 'account_created_date': 1358, 'account_country': 72, 'account_industry': 22}\n"
     ]
    }
   ],
   "source": [
    "nulls = cq.check_nulls(\"support_cases\")\n",
    "print(nulls)\n",
    "\n",
    "count = cq.count_ids(\"accounts\")\n",
    "print(f\"Total number of IDs: {count}\")\n",
    "\n",
    "unique_count = cq.unique_ids(\"support_cases\", \"case_sfid\")\n",
    "print(f\"Number of unique IDs: {unique_count}\")\n",
    "\n",
    "cases_df = cq.cases_per_account()\n",
    "print(cases_df.head())\n",
    "\n",
    "cq.analyze_data_types()\n",
    "\n",
    "sizes = cq.table_size()\n",
    "print(sizes)\n",
    "\n",
    "unique_counts = cq.unique_values(\"accounts\")\n",
    "print(unique_counts)\n"
   ]
  },
  {
   "cell_type": "code",
   "execution_count": 3,
   "metadata": {},
   "outputs": [],
   "source": [
    "conn.close()"
   ]
  }
 ],
 "metadata": {
  "kernelspec": {
   "display_name": "Python 3",
   "language": "python",
   "name": "python3"
  },
  "language_info": {
   "codemirror_mode": {
    "name": "ipython",
    "version": 3
   },
   "file_extension": ".py",
   "mimetype": "text/x-python",
   "name": "python",
   "nbconvert_exporter": "python",
   "pygments_lexer": "ipython3",
   "version": "3.11.9"
  }
 },
 "nbformat": 4,
 "nbformat_minor": 2
}
